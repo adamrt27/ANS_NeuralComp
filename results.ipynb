{
 "cells": [
  {
   "cell_type": "code",
   "execution_count": 31,
   "metadata": {},
   "outputs": [],
   "source": [
    "import pandas as pd"
   ]
  },
  {
   "cell_type": "code",
   "execution_count": 32,
   "metadata": {},
   "outputs": [],
   "source": [
    "act_apack = pd.read_csv(\"trace/mobilenet_v2/stats_activations_apack.csv\")\n",
    "w_apack = pd.read_csv(\"trace/mobilenet_v2/stats_weights_apack.csv\")\n",
    "act_256 = pd.read_csv(\"trace/mobilenet_v2/stats_activations_256.csv\")\n",
    "w_256 = pd.read_csv(\"trace/mobilenet_v2/stats_weights_256.csv\")\n",
    "\n",
    "act_apack_v3 = pd.read_csv(\"trace/mobilenet_v3_large/stats_activations_apack.csv\")\n",
    "w_apack_v3 = pd.read_csv(\"trace/mobilenet_v3_large/stats_weights_apack.csv\")\n",
    "act_256_v3 = pd.read_csv(\"trace/mobilenet_v3_large/stats_activations_256.csv\")\n",
    "w_256_v3 = pd.read_csv(\"trace/mobilenet_v3_large/stats_weights_256.csv\")"
   ]
  },
  {
   "cell_type": "markdown",
   "metadata": {},
   "source": [
    "# Baseline APack"
   ]
  },
  {
   "cell_type": "code",
   "execution_count": 33,
   "metadata": {},
   "outputs": [],
   "source": [
    "# Parse .comp files to get estimated comp ratio\n",
    "\n",
    "def parse_comp(filename):\n",
    "    with open(filename, \"r\") as f:\n",
    "        # read the string\n",
    "        data = f.read()\n",
    "    return float(data)\n",
    "\n",
    "v2_act = []\n",
    "v2_w = []\n",
    "v3_act = []\n",
    "v3_w = []\n",
    "\n",
    "d = \"trace/mobilenet_v2/\"\n",
    "\n",
    "# iterate through directory and parse .comp files\n",
    "for i in range(1,7):\n",
    "    v2_act.append(parse_comp(d + f\"input_{i}_flat.comp\"))\n",
    "\n",
    "for i in range(0,52):\n",
    "    v2_w.append(parse_comp(d + f\"weight_{i}_flat.comp\"))\n",
    "\n",
    "d = \"trace/mobilenet_v3_large/\"\n",
    "\n",
    "for i in range(1,9):\n",
    "    v3_act.append(parse_comp(d + f\"input_{i}_flat.comp\"))\n",
    "    \n",
    "for i in range(0,62):\n",
    "    v3_w.append(parse_comp(d + f\"weight_{i}_flat.comp\"))"
   ]
  },
  {
   "cell_type": "markdown",
   "metadata": {},
   "source": [
    "# Activations"
   ]
  },
  {
   "cell_type": "code",
   "execution_count": 34,
   "metadata": {},
   "outputs": [
    {
     "data": {
      "text/html": [
       "<div>\n",
       "<style scoped>\n",
       "    .dataframe tbody tr th:only-of-type {\n",
       "        vertical-align: middle;\n",
       "    }\n",
       "\n",
       "    .dataframe tbody tr th {\n",
       "        vertical-align: top;\n",
       "    }\n",
       "\n",
       "    .dataframe thead th {\n",
       "        text-align: right;\n",
       "    }\n",
       "</style>\n",
       "<table border=\"1\" class=\"dataframe\">\n",
       "  <thead>\n",
       "    <tr style=\"text-align: right;\">\n",
       "      <th></th>\n",
       "      <th>Layer</th>\n",
       "      <th>Run Time</th>\n",
       "      <th>Build Time</th>\n",
       "      <th>Compression Ratio</th>\n",
       "      <th>Bits per Symbol</th>\n",
       "    </tr>\n",
       "  </thead>\n",
       "  <tbody>\n",
       "    <tr>\n",
       "      <th>0</th>\n",
       "      <td>0</td>\n",
       "      <td>77.611247</td>\n",
       "      <td>0.014424</td>\n",
       "      <td>1.038618</td>\n",
       "      <td>7.702542</td>\n",
       "    </tr>\n",
       "    <tr>\n",
       "      <th>1</th>\n",
       "      <td>1</td>\n",
       "      <td>77.600117</td>\n",
       "      <td>0.011016</td>\n",
       "      <td>1.038618</td>\n",
       "      <td>7.702542</td>\n",
       "    </tr>\n",
       "    <tr>\n",
       "      <th>2</th>\n",
       "      <td>2</td>\n",
       "      <td>1.796677</td>\n",
       "      <td>0.010864</td>\n",
       "      <td>2.757782</td>\n",
       "      <td>2.901210</td>\n",
       "    </tr>\n",
       "    <tr>\n",
       "      <th>3</th>\n",
       "      <td>3</td>\n",
       "      <td>0.005035</td>\n",
       "      <td>0.050995</td>\n",
       "      <td>2.039813</td>\n",
       "      <td>3.923264</td>\n",
       "    </tr>\n",
       "    <tr>\n",
       "      <th>4</th>\n",
       "      <td>4</td>\n",
       "      <td>0.005074</td>\n",
       "      <td>0.009599</td>\n",
       "      <td>1.358790</td>\n",
       "      <td>5.888111</td>\n",
       "    </tr>\n",
       "  </tbody>\n",
       "</table>\n",
       "</div>"
      ],
      "text/plain": [
       "   Layer   Run Time  Build Time  Compression Ratio  Bits per Symbol\n",
       "0      0  77.611247    0.014424           1.038618         7.702542\n",
       "1      1  77.600117    0.011016           1.038618         7.702542\n",
       "2      2   1.796677    0.010864           2.757782         2.901210\n",
       "3      3   0.005035    0.050995           2.039813         3.923264\n",
       "4      4   0.005074    0.009599           1.358790         5.888111"
      ]
     },
     "execution_count": 34,
     "metadata": {},
     "output_type": "execute_result"
    }
   ],
   "source": [
    "act_apack"
   ]
  },
  {
   "cell_type": "code",
   "execution_count": 35,
   "metadata": {},
   "outputs": [
    {
     "data": {
      "text/html": [
       "<div>\n",
       "<style scoped>\n",
       "    .dataframe tbody tr th:only-of-type {\n",
       "        vertical-align: middle;\n",
       "    }\n",
       "\n",
       "    .dataframe tbody tr th {\n",
       "        vertical-align: top;\n",
       "    }\n",
       "\n",
       "    .dataframe thead th {\n",
       "        text-align: right;\n",
       "    }\n",
       "</style>\n",
       "<table border=\"1\" class=\"dataframe\">\n",
       "  <thead>\n",
       "    <tr style=\"text-align: right;\">\n",
       "      <th></th>\n",
       "      <th>Layer</th>\n",
       "      <th>Run Time</th>\n",
       "      <th>Build Time</th>\n",
       "      <th>Compression Ratio</th>\n",
       "      <th>Bits per Symbol</th>\n",
       "    </tr>\n",
       "  </thead>\n",
       "  <tbody>\n",
       "    <tr>\n",
       "      <th>0</th>\n",
       "      <td>0</td>\n",
       "      <td>232.908441</td>\n",
       "      <td>0.304071</td>\n",
       "      <td>0.999983</td>\n",
       "      <td>8.000133</td>\n",
       "    </tr>\n",
       "    <tr>\n",
       "      <th>1</th>\n",
       "      <td>1</td>\n",
       "      <td>230.245179</td>\n",
       "      <td>0.345025</td>\n",
       "      <td>0.999983</td>\n",
       "      <td>8.000133</td>\n",
       "    </tr>\n",
       "    <tr>\n",
       "      <th>2</th>\n",
       "      <td>2</td>\n",
       "      <td>24.736484</td>\n",
       "      <td>0.299649</td>\n",
       "      <td>1.179480</td>\n",
       "      <td>6.782650</td>\n",
       "    </tr>\n",
       "    <tr>\n",
       "      <th>3</th>\n",
       "      <td>3</td>\n",
       "      <td>0.032651</td>\n",
       "      <td>0.361919</td>\n",
       "      <td>1.352867</td>\n",
       "      <td>5.913368</td>\n",
       "    </tr>\n",
       "    <tr>\n",
       "      <th>4</th>\n",
       "      <td>4</td>\n",
       "      <td>0.176347</td>\n",
       "      <td>0.372994</td>\n",
       "      <td>1.225011</td>\n",
       "      <td>6.530556</td>\n",
       "    </tr>\n",
       "  </tbody>\n",
       "</table>\n",
       "</div>"
      ],
      "text/plain": [
       "   Layer    Run Time  Build Time  Compression Ratio  Bits per Symbol\n",
       "0      0  232.908441    0.304071           0.999983         8.000133\n",
       "1      1  230.245179    0.345025           0.999983         8.000133\n",
       "2      2   24.736484    0.299649           1.179480         6.782650\n",
       "3      3    0.032651    0.361919           1.352867         5.913368\n",
       "4      4    0.176347    0.372994           1.225011         6.530556"
      ]
     },
     "execution_count": 35,
     "metadata": {},
     "output_type": "execute_result"
    }
   ],
   "source": [
    "act_256"
   ]
  },
  {
   "cell_type": "markdown",
   "metadata": {},
   "source": [
    "# Weights"
   ]
  },
  {
   "cell_type": "code",
   "execution_count": 36,
   "metadata": {},
   "outputs": [],
   "source": [
    "import numpy as np"
   ]
  },
  {
   "cell_type": "code",
   "execution_count": 37,
   "metadata": {},
   "outputs": [],
   "source": [
    "# get means along w_apack and w_256\n",
    "w_apack_mean = w_apack.mean()[\"Compression Ratio\"]\n",
    "w_256_mean = w_256.mean()[\"Compression Ratio\"]\n",
    "w_orig_mean = np.mean(v2_w)\n",
    "\n",
    "# get means along act_apack and act_256\n",
    "act_apack_mean = act_apack.mean()[\"Compression Ratio\"]\n",
    "act_256_mean = act_256.mean()[\"Compression Ratio\"]\n",
    "act_orig_mean = np.mean(v2_act)\n",
    "\n",
    "# do the same for v3\n",
    "w_apack_mean_v3 = w_apack_v3.mean()[\"Compression Ratio\"]\n",
    "w_256_mean_v3 = w_256_v3.mean()[\"Compression Ratio\"]\n",
    "w_orig_mean_v3 = np.mean(v3_w)\n",
    "\n",
    "act_apack_mean_v3 = act_apack_v3.mean()[\"Compression Ratio\"]\n",
    "act_256_mean_v3 = act_256_v3.mean()[\"Compression Ratio\"]\n",
    "act_orig_mean_v3 = np.mean(v3_act)\n"
   ]
  },
  {
   "cell_type": "code",
   "execution_count": 38,
   "metadata": {},
   "outputs": [
    {
     "data": {
      "image/png": "[encoded data removed]",
      "text/plain": [
       "<Figure size 1400x600 with 2 Axes>"
      ]
     },
     "metadata": {},
     "output_type": "display_data"
    }
   ],
   "source": [
    "models = [\"mobilenet_v2\", \"mobilenet_v3_large\"]\n",
    "labels = [\"ANS APack\", \"ANS 256\", \"AC APack\"]\n",
    "\n",
    "# Create DataFrames\n",
    "df_w = pd.DataFrame({\n",
    "    \"Model\": models,\n",
    "    \"w_apack\": [w_apack_mean, w_apack_mean_v3],\n",
    "    \"w_256\": [w_256_mean, w_256_mean_v3],\n",
    "    \"w_orig\": [w_orig_mean, w_orig_mean_v3]\n",
    "})\n",
    "\n",
    "df_act = pd.DataFrame({\n",
    "    \"Model\": models,\n",
    "    \"act_apack\": [act_apack_mean, act_apack_mean_v3],\n",
    "    \"act_256\": [act_256_mean, act_256_mean_v3],\n",
    "    \"act_orig\": [act_orig_mean, act_orig_mean_v3]\n",
    "})\n",
    "\n",
    "# Define the colors for each category\n",
    "color_map = {\n",
    "    \"orig\": \"blue\",\n",
    "    \"apack\": \"green\",\n",
    "    \"256\": \"red\"\n",
    "}\n",
    "\n",
    "# Define the figure and subplots\n",
    "fig, axs = plt.subplots(1, 2, figsize=(14, 6))\n",
    "\n",
    "# Plot weights compression ratio\n",
    "bars_w = df_w.set_index(\"Model\").plot(kind=\"bar\", ax=axs[0], color=[color_map[\"apack\"], color_map[\"256\"], color_map[\"orig\"]], legend=False)\n",
    "axs[0].set_title(\"Weights Compression Ratio\")\n",
    "axs[0].set_ylabel(\"Compression Ratio\")\n",
    "axs[0].set_ylim([1.0, 2])  # Set y-axis limits to zoom in\n",
    "\n",
    "# Plot activations compression ratio\n",
    "bars_act = df_act.set_index(\"Model\").plot(kind=\"bar\", ax=axs[1], color=[color_map[\"apack\"], color_map[\"256\"], color_map[\"orig\"]], legend=False)\n",
    "axs[1].set_title(\"Activations Compression Ratio\")\n",
    "axs[1].set_ylabel(\"Compression Ratio\")\n",
    "axs[1].set_ylim([1.0, 2])  # Set y-axis limits to zoom in\n",
    "\n",
    "# Add legend\n",
    "handles = [plt.Line2D([0], [0], color=color_map[key], lw=4) for key in [\"orig\", \"apack\", \"256\"]]\n",
    "fig.legend(handles, labels, loc=\"upper center\", ncol=3)\n",
    "\n",
    "# Improve layout\n",
    "plt.tight_layout()\n",
    "\n",
    "# Display the plot\n",
    "plt.show()"
   ]
  },
  {
   "cell_type": "code",
   "execution_count": 12,
   "metadata": {},
   "outputs": [
    {
     "name": "stdout",
     "output_type": "stream",
     "text": [
      "Weights Compression Ratio Improvement v2:  0    0.989705\n",
      "dtype: float64\n",
      "Activations Compression Ratio Improvement v2:  0    1.396617\n",
      "dtype: float64\n",
      "Weights Compression Ratio Improvement v3:  0    1.016955\n",
      "dtype: float64\n",
      "Activations Compression Ratio Improvement v3:  0    1.200495\n",
      "dtype: float64\n"
     ]
    }
   ],
   "source": [
    "# Compute how much the compression ratio has improved with APack\n",
    "print(\"Weights Compression Ratio Improvement v2: \", df_w[\"w_apack\"] / df_w[\"w_256\"])\n",
    "print(\"Activations Compression Ratio Improvement v2: \", df_act[\"act_apack\"] / df_act[\"act_256\"])\n",
    "\n",
    "print(\"Weights Compression Ratio Improvement v3: \", df_w[\"w_apack_v3\"] / df_w[\"w_256_v3\"])\n",
    "print(\"Activations Compression Ratio Improvement v3: \", df_act[\"act_apack_v3\"] / df_act[\"act_256_v3\"])"
   ]
  },
  {
   "cell_type": "code",
   "execution_count": 13,
   "metadata": {},
   "outputs": [
    {
     "name": "stdout",
     "output_type": "stream",
     "text": [
      "Weights Compression Ratio Worsening v2:  0    0.996574\n",
      "dtype: float64\n",
      "Activations Compression Ratio Worsening v2:  0    0.89797\n",
      "dtype: float64\n",
      "Weights Compression Ratio Worsening v3:  0    0.936065\n",
      "dtype: float64\n",
      "Activations Compression Ratio Worsening v3:  0    1.021796\n",
      "dtype: float64\n"
     ]
    }
   ],
   "source": [
    "# compute how much worse the compression ratio is with APack compared to orig\n",
    "print(\"Weights Compression Ratio Worsening v2: \", df_w[\"w_apack\"] / df_w[\"w_orig\"])\n",
    "print(\"Activations Compression Ratio Worsening v2: \", df_act[\"act_apack\"] / df_act[\"act_orig\"])\n",
    "\n",
    "print(\"Weights Compression Ratio Worsening v3: \", df_w[\"w_apack_v3\"] / df_w[\"w_orig_v3\"])\n",
    "print(\"Activations Compression Ratio Worsening v3: \", df_act[\"act_apack_v3\"] / df_act[\"act_orig_v3\"])"
   ]
  },
  {
   "cell_type": "code",
   "execution_count": null,
   "metadata": {},
   "outputs": [
    {
     "data": {
      "text/plain": [
       "<Axes: title={'center': 'Activations Run Time (ms)'}>"
      ]
     },
     "execution_count": 25,
     "metadata": {},
     "output_type": "execute_result"
    },
    {
     "data": {
      "image/png": "[encoded data removed]",
      "text/plain": [
       "<Figure size 1000x300 with 2 Axes>"
      ]
     },
     "metadata": {},
     "output_type": "display_data"
    }
   ],
   "source": [
    "# plot the time means\n",
    "fig, axs = plt.subplots(1, 2, figsize=(10, 3))\n",
    "\n",
    "df_w.loc[\"Run Time\"].plot(kind=\"bar\", ax=axs[0], title=\"Weights Run Time (ms)\")\n",
    "df_act.loc[\"Run Time\"].plot(kind=\"bar\", ax=axs[1], title=\"Activations Run Time (ms)\")"
   ]
  },
  {
   "cell_type": "code",
   "execution_count": null,
   "metadata": {},
   "outputs": [
    {
     "name": "stdout",
     "output_type": "stream",
     "text": [
      "Collecting tANS_py\n",
      "  Downloading tans_py-0.1.1-py3-none-any.whl.metadata (6.6 kB)\n",
      "Requirement already satisfied: numpy in /home/adam-taback/miniconda3/envs/fbgemm/lib/python3.12/site-packages (from tANS_py) (1.26.4)\n",
      "Requirement already satisfied: pandas in /home/adam-taback/miniconda3/envs/fbgemm/lib/python3.12/site-packages (from tANS_py) (2.2.2)\n",
      "Requirement already satisfied: python-dateutil>=2.8.2 in /home/adam-taback/miniconda3/envs/fbgemm/lib/python3.12/site-packages (from pandas->tANS_py) (2.9.0)\n",
      "Requirement already satisfied: pytz>=2020.1 in /home/adam-taback/miniconda3/envs/fbgemm/lib/python3.12/site-packages (from pandas->tANS_py) (2024.1)\n",
      "Requirement already satisfied: tzdata>=2022.7 in /home/adam-taback/miniconda3/envs/fbgemm/lib/python3.12/site-packages (from pandas->tANS_py) (2023.3)\n",
      "Requirement already satisfied: six>=1.5 in /home/adam-taback/miniconda3/envs/fbgemm/lib/python3.12/site-packages (from python-dateutil>=2.8.2->pandas->tANS_py) (1.16.0)\n",
      "Downloading tans_py-0.1.1-py3-none-any.whl (12 kB)\n",
      "Installing collected packages: tANS_py\n",
      "Successfully installed tANS_py-0.1.1\n"
     ]
    }
   ],
   "source": [
    "!pip install tANS_py"
   ]
  },
  {
   "cell_type": "code",
   "execution_count": null,
   "metadata": {},
   "outputs": [],
   "source": [
    "import tANS_py"
   ]
  },
  {
   "cell_type": "code",
   "execution_count": null,
   "metadata": {},
   "outputs": [],
   "source": [
    "import tANS_py.Coder\n",
    "\n",
    "\n",
    "s = [\"A\",\"B\",\"C\"]\n",
    "f = [2,4,2]\n",
    "c = tANS_py.Coder.Coder(sum(f), s, f)"
   ]
  },
  {
   "cell_type": "code",
   "execution_count": null,
   "metadata": {},
   "outputs": [
    {
     "data": {
      "text/plain": [
       "((['A', 'B', 'B', 'C'], 12), 32)"
      ]
     },
     "execution_count": 6,
     "metadata": {},
     "output_type": "execute_result"
    }
   ],
   "source": [
    "msg = \"ABBC\"\n",
    "\n",
    "c.encode_decode(list(msg)), len(msg) * 8"
   ]
  },
  {
   "cell_type": "code",
   "execution_count": null,
   "metadata": {},
   "outputs": [],
   "source": []
  }
 ],
 "metadata": {
  "kernelspec": {
   "display_name": "fbgemm",
   "language": "python",
   "name": "python3"
  },
  "language_info": {
   "codemirror_mode": {
    "name": "ipython",
    "version": 3
   },
   "file_extension": ".py",
   "mimetype": "text/x-python",
   "name": "python",
   "nbconvert_exporter": "python",
   "pygments_lexer": "ipython3",
   "version": "3.12.4"
  }
 },
 "nbformat": 4,
 "nbformat_minor": 2
}
