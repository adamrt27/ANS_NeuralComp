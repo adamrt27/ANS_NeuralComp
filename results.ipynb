{
 "cells": [
  {
   "cell_type": "code",
   "execution_count": 7,
   "metadata": {},
   "outputs": [],
   "source": [
    "import pandas as pd"
   ]
  },
  {
   "cell_type": "code",
   "execution_count": 8,
   "metadata": {},
   "outputs": [],
   "source": [
    "act_apack = pd.read_csv(\"trace/mobilenet_v2/stats_activations_apack.csv\")\n",
    "w_apack = pd.read_csv(\"trace/mobilenet_v2/stats_weights_apack.csv\")\n",
    "act_256 = pd.read_csv(\"trace/mobilenet_v2/stats_activations_256.csv\")\n",
    "w_256 = pd.read_csv(\"trace/mobilenet_v2/stats_weights_256.csv\")\n",
    "\n",
    "act_apack_v3 = pd.read_csv(\"trace/mobilenet_v3_large/stats_activations_apack.csv\")\n",
    "w_apack_v3 = pd.read_csv(\"trace/mobilenet_v3_large/stats_weights_apack.csv\")\n",
    "act_256_v3 = pd.read_csv(\"trace/mobilenet_v3_large/stats_activations_256.csv\")\n",
    "w_256_v3 = pd.read_csv(\"trace/mobilenet_v3_large/stats_weights_256.csv\")"
   ]
  },
  {
   "cell_type": "markdown",
   "metadata": {},
   "source": [
    "# Baseline APack"
   ]
  },
  {
   "cell_type": "code",
   "execution_count": 14,
   "metadata": {},
   "outputs": [],
   "source": [
    "# Parse .comp files to get estimated comp ratio\n",
    "\n",
    "def parse_comp(filename):\n",
    "    with open(filename, \"r\") as f:\n",
    "        # read the string\n",
    "        data = f.read()\n",
    "    return float(data)\n",
    "\n",
    "v2_act = []\n",
    "v2_w = []\n",
    "v3_act = []\n",
    "v3_w = []\n",
    "\n",
    "d = \"trace/mobilenet_v2/\"\n",
    "\n",
    "# iterate through directory and parse .comp files\n",
    "for i in range(1,7):\n",
    "    v2_act.append(parse_comp(d + f\"input_{i}_flat.comp\"))\n",
    "\n",
    "for i in range(0,52):\n",
    "    v2_w.append(parse_comp(d + f\"weight_{i}_flat.comp\"))\n",
    "\n",
    "d = \"trace/mobilenet_v3_large/\"\n",
    "\n",
    "for i in range(1,9):\n",
    "    v3_act.append(parse_comp(d + f\"input_{i}_flat.comp\"))\n",
    "    \n",
    "for i in range(0,62):\n",
    "    v3_w.append(parse_comp(d + f\"weight_{i}_flat.comp\"))"
   ]
  },
  {
   "cell_type": "markdown",
   "metadata": {},
   "source": [
    "# Activations"
   ]
  },
  {
   "cell_type": "code",
   "execution_count": 10,
   "metadata": {},
   "outputs": [
    {
     "data": {
      "text/html": [
       "<div>\n",
       "<style scoped>\n",
       "    .dataframe tbody tr th:only-of-type {\n",
       "        vertical-align: middle;\n",
       "    }\n",
       "\n",
       "    .dataframe tbody tr th {\n",
       "        vertical-align: top;\n",
       "    }\n",
       "\n",
       "    .dataframe thead th {\n",
       "        text-align: right;\n",
       "    }\n",
       "</style>\n",
       "<table border=\"1\" class=\"dataframe\">\n",
       "  <thead>\n",
       "    <tr style=\"text-align: right;\">\n",
       "      <th></th>\n",
       "      <th>Layer</th>\n",
       "      <th>Run Time</th>\n",
       "      <th>Build Time</th>\n",
       "      <th>Compression Ratio</th>\n",
       "      <th>Bits per Symbol</th>\n",
       "    </tr>\n",
       "  </thead>\n",
       "  <tbody>\n",
       "    <tr>\n",
       "      <th>0</th>\n",
       "      <td>0</td>\n",
       "      <td>80.852871</td>\n",
       "      <td>5.001614</td>\n",
       "      <td>1.038185</td>\n",
       "      <td>7.705755</td>\n",
       "    </tr>\n",
       "    <tr>\n",
       "      <th>1</th>\n",
       "      <td>1</td>\n",
       "      <td>73.973466</td>\n",
       "      <td>4.916724</td>\n",
       "      <td>1.038185</td>\n",
       "      <td>7.705755</td>\n",
       "    </tr>\n",
       "    <tr>\n",
       "      <th>2</th>\n",
       "      <td>2</td>\n",
       "      <td>1.734431</td>\n",
       "      <td>4.241678</td>\n",
       "      <td>2.769586</td>\n",
       "      <td>2.889187</td>\n",
       "    </tr>\n",
       "    <tr>\n",
       "      <th>3</th>\n",
       "      <td>3</td>\n",
       "      <td>0.005473</td>\n",
       "      <td>4.344031</td>\n",
       "      <td>2.041674</td>\n",
       "      <td>3.919705</td>\n",
       "    </tr>\n",
       "    <tr>\n",
       "      <th>4</th>\n",
       "      <td>4</td>\n",
       "      <td>0.006142</td>\n",
       "      <td>4.652083</td>\n",
       "      <td>1.355177</td>\n",
       "      <td>5.903778</td>\n",
       "    </tr>\n",
       "  </tbody>\n",
       "</table>\n",
       "</div>"
      ],
      "text/plain": [
       "   Layer   Run Time  Build Time  Compression Ratio  Bits per Symbol\n",
       "0      0  80.852871    5.001614           1.038185         7.705755\n",
       "1      1  73.973466    4.916724           1.038185         7.705755\n",
       "2      2   1.734431    4.241678           2.769586         2.889187\n",
       "3      3   0.005473    4.344031           2.041674         3.919705\n",
       "4      4   0.006142    4.652083           1.355177         5.903778"
      ]
     },
     "execution_count": 10,
     "metadata": {},
     "output_type": "execute_result"
    }
   ],
   "source": [
    "act_apack"
   ]
  },
  {
   "cell_type": "code",
   "execution_count": 11,
   "metadata": {},
   "outputs": [
    {
     "data": {
      "text/html": [
       "<div>\n",
       "<style scoped>\n",
       "    .dataframe tbody tr th:only-of-type {\n",
       "        vertical-align: middle;\n",
       "    }\n",
       "\n",
       "    .dataframe tbody tr th {\n",
       "        vertical-align: top;\n",
       "    }\n",
       "\n",
       "    .dataframe thead th {\n",
       "        text-align: right;\n",
       "    }\n",
       "</style>\n",
       "<table border=\"1\" class=\"dataframe\">\n",
       "  <thead>\n",
       "    <tr style=\"text-align: right;\">\n",
       "      <th></th>\n",
       "      <th>Layer</th>\n",
       "      <th>Run Time</th>\n",
       "      <th>Build Time</th>\n",
       "      <th>Compression Ratio</th>\n",
       "      <th>Bits per Symbol</th>\n",
       "    </tr>\n",
       "  </thead>\n",
       "  <tbody>\n",
       "    <tr>\n",
       "      <th>0</th>\n",
       "      <td>0</td>\n",
       "      <td>240.792047</td>\n",
       "      <td>0.310032</td>\n",
       "      <td>0.999983</td>\n",
       "      <td>8.000133</td>\n",
       "    </tr>\n",
       "    <tr>\n",
       "      <th>1</th>\n",
       "      <td>1</td>\n",
       "      <td>233.969397</td>\n",
       "      <td>0.325021</td>\n",
       "      <td>0.999983</td>\n",
       "      <td>8.000133</td>\n",
       "    </tr>\n",
       "    <tr>\n",
       "      <th>2</th>\n",
       "      <td>2</td>\n",
       "      <td>25.039795</td>\n",
       "      <td>0.337763</td>\n",
       "      <td>1.176255</td>\n",
       "      <td>6.801244</td>\n",
       "    </tr>\n",
       "    <tr>\n",
       "      <th>3</th>\n",
       "      <td>3</td>\n",
       "      <td>0.031423</td>\n",
       "      <td>0.313431</td>\n",
       "      <td>1.332505</td>\n",
       "      <td>6.003733</td>\n",
       "    </tr>\n",
       "    <tr>\n",
       "      <th>4</th>\n",
       "      <td>4</td>\n",
       "      <td>0.173761</td>\n",
       "      <td>0.364781</td>\n",
       "      <td>1.224470</td>\n",
       "      <td>6.533444</td>\n",
       "    </tr>\n",
       "  </tbody>\n",
       "</table>\n",
       "</div>"
      ],
      "text/plain": [
       "   Layer    Run Time  Build Time  Compression Ratio  Bits per Symbol\n",
       "0      0  240.792047    0.310032           0.999983         8.000133\n",
       "1      1  233.969397    0.325021           0.999983         8.000133\n",
       "2      2   25.039795    0.337763           1.176255         6.801244\n",
       "3      3    0.031423    0.313431           1.332505         6.003733\n",
       "4      4    0.173761    0.364781           1.224470         6.533444"
      ]
     },
     "execution_count": 11,
     "metadata": {},
     "output_type": "execute_result"
    }
   ],
   "source": [
    "act_256"
   ]
  },
  {
   "cell_type": "markdown",
   "metadata": {},
   "source": [
    "# Weights"
   ]
  },
  {
   "cell_type": "code",
   "execution_count": 22,
   "metadata": {},
   "outputs": [
    {
     "data": {
      "text/plain": [
       "1.8502442243201933"
      ]
     },
     "execution_count": 22,
     "metadata": {},
     "output_type": "execute_result"
    }
   ],
   "source": [
    "import numpy as np\n",
    "w_apack_mean\n",
    "np.mean(v2_act)"
   ]
  },
  {
   "cell_type": "code",
   "execution_count": 24,
   "metadata": {},
   "outputs": [],
   "source": [
    "# get means along w_apack and w_256\n",
    "w_apack_mean = w_apack.mean()[\"Compression Ratio\"]\n",
    "w_256_mean = w_256.mean()[\"Compression Ratio\"]\n",
    "w_orig_mean = np.mean(v2_w)\n",
    "\n",
    "# get means along act_apack and act_256\n",
    "act_apack_mean = act_apack.mean()[\"Compression Ratio\"]\n",
    "act_256_mean = act_256.mean()[\"Compression Ratio\"]\n",
    "act_orig_mean = np.mean(v2_act)\n",
    "\n",
    "# do the same for v3\n",
    "w_apack_mean_v3 = w_apack_v3.mean()[\"Compression Ratio\"]\n",
    "w_256_mean_v3 = w_256_v3.mean()[\"Compression Ratio\"]\n",
    "w_orig_mean_v3 = np.mean(v3_w)\n",
    "\n",
    "act_apack_mean_v3 = act_apack_v3.mean()[\"Compression Ratio\"]\n",
    "act_256_mean_v3 = act_256_v3.mean()[\"Compression Ratio\"]\n",
    "act_orig_mean_v3 = np.mean(v3_act)\n",
    "\n",
    "# display the means as a table, one for weights and one for activations\n",
    "df_w = pd.DataFrame([w_apack_mean, w_256_mean, w_orig_mean, w_apack_mean_v3, w_256_mean_v3, w_orig_mean_v3])\n",
    "df_w = df_w.transpose()\n",
    "df_w.columns = [\"w_apack\", \"w_256\", \"w_orig\", \"w_apack_v3\", \"w_256_v3\", \"w_orig_v3\"]\n",
    "\n",
    "df_act = pd.DataFrame([act_apack_mean, act_256_mean, act_orig_mean, act_apack_mean_v3, act_256_mean_v3, act_orig_mean_v3])\n",
    "df_act = df_act.transpose()\n",
    "df_act.columns = [\"act_apack\", \"act_256\", \"act_orig\", \"act_apack_v3\", \"act_256_v3\",\"act_orig_v3\"]"
   ]
  },
  {
   "cell_type": "code",
   "execution_count": 25,
   "metadata": {},
   "outputs": [
    {
     "data": {
      "text/html": [
       "<div>\n",
       "<style scoped>\n",
       "    .dataframe tbody tr th:only-of-type {\n",
       "        vertical-align: middle;\n",
       "    }\n",
       "\n",
       "    .dataframe tbody tr th {\n",
       "        vertical-align: top;\n",
       "    }\n",
       "\n",
       "    .dataframe thead th {\n",
       "        text-align: right;\n",
       "    }\n",
       "</style>\n",
       "<table border=\"1\" class=\"dataframe\">\n",
       "  <thead>\n",
       "    <tr style=\"text-align: right;\">\n",
       "      <th></th>\n",
       "      <th>w_apack</th>\n",
       "      <th>w_256</th>\n",
       "      <th>w_orig</th>\n",
       "      <th>w_apack_v3</th>\n",
       "      <th>w_256_v3</th>\n",
       "      <th>w_orig_v3</th>\n",
       "    </tr>\n",
       "  </thead>\n",
       "  <tbody>\n",
       "    <tr>\n",
       "      <th>0</th>\n",
       "      <td>1.261566</td>\n",
       "      <td>1.228623</td>\n",
       "      <td>1.265903</td>\n",
       "      <td>1.568444</td>\n",
       "      <td>1.384505</td>\n",
       "      <td>1.676456</td>\n",
       "    </tr>\n",
       "  </tbody>\n",
       "</table>\n",
       "</div>"
      ],
      "text/plain": [
       "    w_apack     w_256    w_orig  w_apack_v3  w_256_v3  w_orig_v3\n",
       "0  1.261566  1.228623  1.265903    1.568444  1.384505   1.676456"
      ]
     },
     "execution_count": 25,
     "metadata": {},
     "output_type": "execute_result"
    }
   ],
   "source": [
    "df_w"
   ]
  },
  {
   "cell_type": "code",
   "execution_count": 28,
   "metadata": {},
   "outputs": [
    {
     "data": {
      "image/png": "[encoded data removed]",
      "text/plain": [
       "<Figure size 1400x600 with 2 Axes>"
      ]
     },
     "metadata": {},
     "output_type": "display_data"
    }
   ],
   "source": [
    "import matplotlib.pyplot as plt\n",
    "\n",
    "# Define the figure and subplots\n",
    "fig, axs = plt.subplots(1, 2, figsize=(14, 6))\n",
    "\n",
    "# Plot weights compression ratio\n",
    "df_w.T.plot(kind=\"bar\", ax=axs[0])\n",
    "axs[0].set_title(\"Weights Compression Ratio\")\n",
    "axs[0].set_ylabel(\"Compression Ratio\")\n",
    "axs[0].set_xlabel(\"Metrics\")\n",
    "axs[0].legend(loc=\"best\")\n",
    "\n",
    "# Plot activations compression ratio\n",
    "df_act.T.plot(kind=\"bar\", ax=axs[1])\n",
    "axs[1].set_title(\"Activations Compression Ratio\")\n",
    "axs[1].set_ylabel(\"Compression Ratio\")\n",
    "axs[1].set_xlabel(\"Metrics\")\n",
    "axs[1].legend(loc=\"best\")\n",
    "\n",
    "# Improve layout\n",
    "plt.tight_layout()\n",
    "\n",
    "# Display the plot\n",
    "plt.show()\n"
   ]
  },
  {
   "cell_type": "code",
   "execution_count": 32,
   "metadata": {},
   "outputs": [
    {
     "name": "stdout",
     "output_type": "stream",
     "text": [
      "Weights Compression Ratio Improvement v2:  0    1.026813\n",
      "dtype: float64\n",
      "Activations Compression Ratio Improvement v2:  0    1.437733\n",
      "dtype: float64\n",
      "Weights Compression Ratio Improvement v3:  0    1.132855\n",
      "dtype: float64\n",
      "Activations Compression Ratio Improvement v3:  0    1.279473\n",
      "dtype: float64\n"
     ]
    }
   ],
   "source": [
    "# Compute how much the compression ratio has improved with APack\n",
    "print(\"Weights Compression Ratio Improvement v2: \", df_w[\"w_apack\"] / df_w[\"w_256\"])\n",
    "print(\"Activations Compression Ratio Improvement v2: \", df_act[\"act_apack\"] / df_act[\"act_256\"])\n",
    "\n",
    "print(\"Weights Compression Ratio Improvement v3: \", df_w[\"w_apack_v3\"] / df_w[\"w_256_v3\"])\n",
    "print(\"Activations Compression Ratio Improvement v3: \", df_act[\"act_apack_v3\"] / df_act[\"act_256_v3\"])"
   ]
  },
  {
   "cell_type": "code",
   "execution_count": 33,
   "metadata": {},
   "outputs": [
    {
     "name": "stdout",
     "output_type": "stream",
     "text": [
      "Weights Compression Ratio Worsening v2:  0    0.996574\n",
      "dtype: float64\n",
      "Activations Compression Ratio Worsening v2:  0    0.890997\n",
      "dtype: float64\n",
      "Weights Compression Ratio Worsening v3:  0    0.935571\n",
      "dtype: float64\n",
      "Activations Compression Ratio Worsening v3:  0    1.016724\n",
      "dtype: float64\n"
     ]
    }
   ],
   "source": [
    "# compute how much worse the compression ratio is with APack compared to orig\n",
    "print(\"Weights Compression Ratio Worsening v2: \", df_w[\"w_apack\"] / df_w[\"w_orig\"])\n",
    "print(\"Activations Compression Ratio Worsening v2: \", df_act[\"act_apack\"] / df_act[\"act_orig\"])\n",
    "\n",
    "print(\"Weights Compression Ratio Worsening v3: \", df_w[\"w_apack_v3\"] / df_w[\"w_orig_v3\"])\n",
    "print(\"Activations Compression Ratio Worsening v3: \", df_act[\"act_apack_v3\"] / df_act[\"act_orig_v3\"])"
   ]
  },
  {
   "cell_type": "code",
   "execution_count": 25,
   "metadata": {},
   "outputs": [
    {
     "data": {
      "text/plain": [
       "<Axes: title={'center': 'Activations Run Time (ms)'}>"
      ]
     },
     "execution_count": 25,
     "metadata": {},
     "output_type": "execute_result"
    },
    {
     "data": {
      "image/png": "[encoded data removed]",
      "text/plain": [
       "<Figure size 1000x300 with 2 Axes>"
      ]
     },
     "metadata": {},
     "output_type": "display_data"
    }
   ],
   "source": [
    "# plot the time means\n",
    "fig, axs = plt.subplots(1, 2, figsize=(10, 3))\n",
    "\n",
    "df_w.loc[\"Run Time\"].plot(kind=\"bar\", ax=axs[0], title=\"Weights Run Time (ms)\")\n",
    "df_act.loc[\"Run Time\"].plot(kind=\"bar\", ax=axs[1], title=\"Activations Run Time (ms)\")"
   ]
  },
  {
   "cell_type": "code",
   "execution_count": 1,
   "metadata": {},
   "outputs": [
    {
     "name": "stdout",
     "output_type": "stream",
     "text": [
      "Collecting tANS_py\n",
      "  Downloading tans_py-0.1.1-py3-none-any.whl.metadata (6.6 kB)\n",
      "Requirement already satisfied: numpy in /home/adam-taback/miniconda3/envs/fbgemm/lib/python3.12/site-packages (from tANS_py) (1.26.4)\n",
      "Requirement already satisfied: pandas in /home/adam-taback/miniconda3/envs/fbgemm/lib/python3.12/site-packages (from tANS_py) (2.2.2)\n",
      "Requirement already satisfied: python-dateutil>=2.8.2 in /home/adam-taback/miniconda3/envs/fbgemm/lib/python3.12/site-packages (from pandas->tANS_py) (2.9.0)\n",
      "Requirement already satisfied: pytz>=2020.1 in /home/adam-taback/miniconda3/envs/fbgemm/lib/python3.12/site-packages (from pandas->tANS_py) (2024.1)\n",
      "Requirement already satisfied: tzdata>=2022.7 in /home/adam-taback/miniconda3/envs/fbgemm/lib/python3.12/site-packages (from pandas->tANS_py) (2023.3)\n",
      "Requirement already satisfied: six>=1.5 in /home/adam-taback/miniconda3/envs/fbgemm/lib/python3.12/site-packages (from python-dateutil>=2.8.2->pandas->tANS_py) (1.16.0)\n",
      "Downloading tans_py-0.1.1-py3-none-any.whl (12 kB)\n",
      "Installing collected packages: tANS_py\n",
      "Successfully installed tANS_py-0.1.1\n"
     ]
    }
   ],
   "source": [
    "!pip install tANS_py"
   ]
  },
  {
   "cell_type": "code",
   "execution_count": 1,
   "metadata": {},
   "outputs": [],
   "source": [
    "import tANS_py"
   ]
  },
  {
   "cell_type": "code",
   "execution_count": 3,
   "metadata": {},
   "outputs": [],
   "source": [
    "import tANS_py.Coder\n",
    "\n",
    "\n",
    "s = [\"A\",\"B\",\"C\"]\n",
    "f = [2,4,2]\n",
    "c = tANS_py.Coder.Coder(sum(f), s, f)"
   ]
  },
  {
   "cell_type": "code",
   "execution_count": 6,
   "metadata": {},
   "outputs": [
    {
     "data": {
      "text/plain": [
       "((['A', 'B', 'B', 'C'], 12), 32)"
      ]
     },
     "execution_count": 6,
     "metadata": {},
     "output_type": "execute_result"
    }
   ],
   "source": [
    "msg = \"ABBC\"\n",
    "\n",
    "c.encode_decode(list(msg)), len(msg) * 8"
   ]
  },
  {
   "cell_type": "code",
   "execution_count": null,
   "metadata": {},
   "outputs": [],
   "source": []
  }
 ],
 "metadata": {
  "kernelspec": {
   "display_name": "fbgemm",
   "language": "python",
   "name": "python3"
  },
  "language_info": {
   "codemirror_mode": {
    "name": "ipython",
    "version": 3
   },
   "file_extension": ".py",
   "mimetype": "text/x-python",
   "name": "python",
   "nbconvert_exporter": "python",
   "pygments_lexer": "ipython3",
   "version": "3.12.4"
  }
 },
 "nbformat": 4,
 "nbformat_minor": 2
}
