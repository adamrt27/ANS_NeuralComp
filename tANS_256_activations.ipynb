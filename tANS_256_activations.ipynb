{
 "cells": [
  {
   "cell_type": "markdown",
   "metadata": {},
   "source": [
    "# Importing Packages"
   ]
  },
  {
   "cell_type": "code",
   "execution_count": 1,
   "metadata": {},
   "outputs": [],
   "source": [
    "import numpy as np\n",
    "import matplotlib.pyplot as plt\n",
    "import pandas as pd\n",
    "import math\n",
    "\n",
    "# import my tANS function\n",
    "from Functions import Coder, Utils"
   ]
  },
  {
   "cell_type": "code",
   "execution_count": 2,
   "metadata": {},
   "outputs": [],
   "source": [
    "range_ = (1,7)"
   ]
  },
  {
   "cell_type": "markdown",
   "metadata": {},
   "source": [
    "# Importing the data"
   ]
  },
  {
   "cell_type": "code",
   "execution_count": 3,
   "metadata": {},
   "outputs": [
    {
     "data": {
      "text/plain": [
       "(array([  0,   1,   2,   3,   4,   5,   6,   7,   8,   9,  10,  11,  12,\n",
       "         13,  14,  15,  16,  17,  18,  19,  20,  21,  22,  23,  24,  25,\n",
       "         26,  27,  28,  29,  30,  31,  32,  33,  34,  35,  36,  37,  38,\n",
       "         39,  40,  41,  42,  43,  44,  45,  46,  47,  48,  49,  50,  51,\n",
       "         52,  53,  54,  55,  56,  57,  58,  59,  60,  61,  62,  63,  64,\n",
       "         65,  66,  67,  68,  69,  70,  71,  72,  73,  74,  75,  76,  77,\n",
       "         78,  79,  80,  81,  82,  83,  84,  85,  86,  87,  88,  89,  90,\n",
       "         91,  92,  93,  94,  95,  96,  97,  98,  99, 100, 101, 102, 103,\n",
       "        104, 105, 106, 107, 108, 109, 110, 111, 112, 113, 114, 115, 116,\n",
       "        117, 118, 119, 120, 121, 122, 123, 124, 125, 126, 127, 128, 129,\n",
       "        130, 131, 132, 133, 134, 135, 136, 137, 138, 139, 140, 141, 142,\n",
       "        143, 144, 145, 146, 147, 148, 149, 150, 151, 152, 153, 154, 155,\n",
       "        156, 157, 158, 159, 160, 161, 162, 163, 164, 165, 166, 167, 168,\n",
       "        169, 170, 171, 172, 173, 174, 175, 176, 177, 178, 179, 180, 181,\n",
       "        182, 183, 184, 185, 186, 187, 188, 189, 190, 191, 192, 193, 194,\n",
       "        195, 196, 197, 198, 199, 200, 201, 202, 203, 204, 205, 206, 207,\n",
       "        208, 209, 210, 211, 212, 213, 214, 215, 216, 217, 218, 219, 220,\n",
       "        221, 222, 223, 224, 225, 226, 227, 228, 229, 230, 231, 232, 233,\n",
       "        234, 235, 236, 237, 238, 239, 240, 241, 242, 243, 244, 245, 246,\n",
       "        247, 248, 249, 250, 251, 252, 253, 254, 255], dtype=uint8),\n",
       " (9, 3, 224, 224))"
      ]
     },
     "execution_count": 3,
     "metadata": {},
     "output_type": "execute_result"
    }
   ],
   "source": [
    "# importing the data\n",
    "data = [np.load(f\"trace/mobilenet_v3/input_{i}.npy\") for i in range(range_[0],range_[1])]\n",
    "#data_flat = data.flatten()\n",
    "np.unique(data[0]), data[0].shape"
   ]
  },
  {
   "cell_type": "markdown",
   "metadata": {},
   "source": [
    "# Compressing the data\n",
    "\n",
    "\n",
    "1. Convert each data point to a *(symbol, offset)* pair\n",
    "2. Compress Values to value stream\n",
    "3. Put offset in offset stream"
   ]
  },
  {
   "cell_type": "markdown",
   "metadata": {},
   "source": [
    "### Get frequencies"
   ]
  },
  {
   "cell_type": "code",
   "execution_count": 4,
   "metadata": {},
   "outputs": [],
   "source": [
    "# Calculate frequency of each uint8 value\n",
    "def calculate_frequency(array):\n",
    "    # Ensure the input array is of type uint8\n",
    "    if array.dtype != np.uint8:\n",
    "        raise ValueError(\"Input array must be of type uint8\")\n",
    "    \n",
    "    # Initialize an array of zeros with a length of 256 to store frequencies\n",
    "    frequency = np.zeros(256, dtype=int)\n",
    "    \n",
    "    # Iterate through the array and count the occurrences of each value\n",
    "    for value in array:\n",
    "        frequency[value] += 1\n",
    "        \n",
    "    return frequency"
   ]
  },
  {
   "cell_type": "code",
   "execution_count": 5,
   "metadata": {},
   "outputs": [
    {
     "name": "stdout",
     "output_type": "stream",
     "text": [
      "1024\n"
     ]
    }
   ],
   "source": [
    "freqs = [calculate_frequency(d) for d in data]\n",
    "\n",
    "# rescale the frequencies to a power of 2\n",
    "freqs = [Utils.rescale_list_to_power_of_2(freq, 2**10) for freq in freqs]\n",
    "print(sum(freqs[0]))"
   ]
  },
  {
   "cell_type": "code",
   "execution_count": 6,
   "metadata": {},
   "outputs": [
    {
     "data": {
      "text/plain": [
       "(3, 224, 224)"
      ]
     },
     "execution_count": 6,
     "metadata": {},
     "output_type": "execute_result"
    }
   ],
   "source": [
    "data[0][0].shape"
   ]
  },
  {
   "cell_type": "code",
   "execution_count": 7,
   "metadata": {},
   "outputs": [
    {
     "name": "stdout",
     "output_type": "stream",
     "text": [
      "Compressing Layer 0\n",
      "\tCompressing tensor 0\n",
      "\tCompressing tensor 1\n",
      "\tCompressing tensor 2\n",
      "\tCompressing tensor 3\n",
      "\tCompressing tensor 4\n",
      "\tCompressing tensor 5\n",
      "\tCompressing tensor 6\n",
      "\tCompressing tensor 7\n",
      "\tCompressing tensor 8\n",
      "\tAverage run time taken: 208.059594 seconds\n",
      "\tAverage build time taken: 0.348622 seconds\n",
      "\tAverage compression ratio: 1070439.111111\n",
      "\tAverage bits per symbol: 0.000007\n",
      "Compressing Layer 1\n",
      "\tCompressing tensor 0\n",
      "\tCompressing tensor 1\n",
      "\tCompressing tensor 2\n",
      "\tCompressing tensor 3\n",
      "\tCompressing tensor 4\n",
      "\tCompressing tensor 5\n",
      "\tCompressing tensor 6\n",
      "\tCompressing tensor 7\n",
      "\tCompressing tensor 8\n",
      "\tAverage run time taken: 207.221485 seconds\n",
      "\tAverage build time taken: 0.353526 seconds\n",
      "\tAverage compression ratio: 1070439.111111\n",
      "\tAverage bits per symbol: 0.000007\n",
      "Compressing Layer 2\n",
      "\tCompressing tensor 0\n",
      "\tCompressing tensor 1\n",
      "\tCompressing tensor 2\n"
     ]
    }
   ],
   "source": [
    "import time\n",
    "nbits = 8 # takes 4 bits to represent each symbol\n",
    "\n",
    "all_run_times = []\n",
    "all_build_times = []\n",
    "all_comp_ratios = []\n",
    "all_bps = []\n",
    "\n",
    "for i in range(len(freqs)):\n",
    "    print(f\"Compressing Layer {i}\")\n",
    "\n",
    "    run_times = []\n",
    "    build_times = []\n",
    "    comp_ratios = []\n",
    "    bp_sym = []\n",
    "\n",
    "    for j in range(len(data[i])):\n",
    "        print(f\"\\tCompressing tensor {j}\")\n",
    "        \n",
    "        time_start = time.time()\n",
    "        \n",
    "        c = Coder.Coder(sum(freqs[i]), [i for i in range(len(freqs[i]))], freqs[i], fast = False)\n",
    "        \n",
    "        time_end = time.time()\n",
    "        build_time_taken = time_end - time_start\n",
    "\n",
    "        msg = list(data[i][j].flatten())\n",
    "\n",
    "        time_start = time.time()\n",
    "        out, comp_bits = c.encode_decode(msg)\n",
    "        time_end = time.time()\n",
    "        run_time_taken = time_end - time_start\n",
    "\n",
    "        if out != msg:\n",
    "            print(\"Error in encoding and decoding\")\n",
    "            break\n",
    "        \n",
    "        run_times.append(run_time_taken)\n",
    "        build_times.append(build_time_taken)\n",
    "        comp_ratios.append(len(msg) * nbits / comp_bits)\n",
    "        bp_sym.append(comp_bits / len(msg))\n",
    "        \n",
    "    # print average stats\n",
    "    print(\"\\tAverage run time taken: %f seconds\" % np.mean(run_times))\n",
    "    print(\"\\tAverage build time taken: %f seconds\" % np.mean(build_times))\n",
    "    print(\"\\tAverage compression ratio: %f\" % np.mean(comp_ratios))\n",
    "    print(\"\\tAverage bits per symbol: %f\" % np.mean(bp_sym))\n",
    "    \n",
    "    # add stats to all lists\n",
    "    all_run_times.append(run_times)\n",
    "    all_build_times.append(build_times)\n",
    "    all_comp_ratios.append(comp_ratios)\n",
    "    all_bps.append(bp_sym)"
   ]
  },
  {
   "cell_type": "code",
   "execution_count": null,
   "metadata": {},
   "outputs": [
    {
     "name": "stderr",
     "output_type": "stream",
     "text": [
      "\n",
      "KeyboardInterrupt\n",
      "\n"
     ]
    }
   ],
   "source": [
    "# display stats in a dataframe\n",
    "import pandas as pd\n",
    "\n",
    "freqs = freqs\n",
    "\n",
    "stats_1 = pd.DataFrame({\"Layer\": [i for i in range(len(freqs))],\n",
    "                      \"Run Time\": [np.mean(all_run_times[i]) for i in range(len(freqs))],\n",
    "                      \"Build Time\": [np.mean(all_build_times[i]) for i in range(len(freqs))],\n",
    "                      \"Compression Ratio\": [np.mean(all_comp_ratios[i]) for i in range(len(freqs))],\n",
    "                      \"Bits per Symbol\": [np.mean(all_bps[i]) for i in range(len(freqs))]})"
   ]
  },
  {
   "cell_type": "code",
   "execution_count": null,
   "metadata": {},
   "outputs": [
    {
     "data": {
      "text/html": [
       "<div>\n",
       "<style scoped>\n",
       "    .dataframe tbody tr th:only-of-type {\n",
       "        vertical-align: middle;\n",
       "    }\n",
       "\n",
       "    .dataframe tbody tr th {\n",
       "        vertical-align: top;\n",
       "    }\n",
       "\n",
       "    .dataframe thead th {\n",
       "        text-align: right;\n",
       "    }\n",
       "</style>\n",
       "<table border=\"1\" class=\"dataframe\">\n",
       "  <thead>\n",
       "    <tr style=\"text-align: right;\">\n",
       "      <th></th>\n",
       "      <th>Layer</th>\n",
       "      <th>Run Time</th>\n",
       "      <th>Build Time</th>\n",
       "      <th>Compression Ratio</th>\n",
       "      <th>Bits per Symbol</th>\n",
       "    </tr>\n",
       "  </thead>\n",
       "  <tbody>\n",
       "    <tr>\n",
       "      <th>0</th>\n",
       "      <td>0</td>\n",
       "      <td>1.865475</td>\n",
       "      <td>0.011845</td>\n",
       "      <td>4.192465</td>\n",
       "      <td>0.954863</td>\n",
       "    </tr>\n",
       "    <tr>\n",
       "      <th>1</th>\n",
       "      <td>1</td>\n",
       "      <td>0.007848</td>\n",
       "      <td>0.049538</td>\n",
       "      <td>3.668388</td>\n",
       "      <td>1.090712</td>\n",
       "    </tr>\n",
       "    <tr>\n",
       "      <th>2</th>\n",
       "      <td>2</td>\n",
       "      <td>0.007443</td>\n",
       "      <td>0.009071</td>\n",
       "      <td>2.039716</td>\n",
       "      <td>1.963778</td>\n",
       "    </tr>\n",
       "    <tr>\n",
       "      <th>3</th>\n",
       "      <td>3</td>\n",
       "      <td>0.007627</td>\n",
       "      <td>0.009255</td>\n",
       "      <td>2.039716</td>\n",
       "      <td>1.963778</td>\n",
       "    </tr>\n",
       "  </tbody>\n",
       "</table>\n",
       "</div>"
      ],
      "text/plain": [
       "   Layer  Run Time  Build Time  Compression Ratio  Bits per Symbol\n",
       "0      0  1.865475    0.011845           4.192465         0.954863\n",
       "1      1  0.007848    0.049538           3.668388         1.090712\n",
       "2      2  0.007443    0.009071           2.039716         1.963778\n",
       "3      3  0.007627    0.009255           2.039716         1.963778"
      ]
     },
     "execution_count": 54,
     "metadata": {},
     "output_type": "execute_result"
    }
   ],
   "source": [
    "stats_1"
   ]
  }
 ],
 "metadata": {
  "kernelspec": {
   "display_name": "APS360_env",
   "language": "python",
   "name": "python3"
  },
  "language_info": {
   "codemirror_mode": {
    "name": "ipython",
    "version": 3
   },
   "file_extension": ".py",
   "mimetype": "text/x-python",
   "name": "python",
   "nbconvert_exporter": "python",
   "pygments_lexer": "ipython3",
   "version": "3.12.4"
  }
 },
 "nbformat": 4,
 "nbformat_minor": 2
}
