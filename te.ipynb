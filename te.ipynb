{
 "cells": [
  {
   "cell_type": "code",
   "execution_count": 1,
   "metadata": {},
   "outputs": [],
   "source": [
    "from Functions.c import runner\n",
    "from Functions.python import Coder\n",
    "from Functions.c_int import runner as c_int_runner"
   ]
  },
  {
   "cell_type": "code",
   "execution_count": 10,
   "metadata": {},
   "outputs": [],
   "source": [
    "n_iter = 10000"
   ]
  },
  {
   "cell_type": "code",
   "execution_count": 11,
   "metadata": {},
   "outputs": [
    {
     "name": "stdout",
     "output_type": "stream",
     "text": [
      "Compression ratio: 0.8292682926829268\n",
      "Time taken (uninitialized): 390.03801345825195 miliseconds\n",
      "Time taken (preinitialized): 113.64603042602539 miliseconds\n",
      "It is 3.43x faster to preinitialize\n"
     ]
    }
   ],
   "source": [
    "L = 256\n",
    "s_list = [i for i in range(16)]\n",
    "L_s = [19, 4, 8, 33, 8, 18, 4, 10, 19, 8, 30, 4, 8, 38, 26, 19]\n",
    "msg = [0,3,2,3,2,1,2,3,4,7,3,1,2,3,4,5,6,7, 15, 14, 13, 12, 11, 10, 9, 8, 7, 6, 5, 4, 3, 2, 1, 0]\n",
    "\n",
    "res = runner.encodeDecodeWithInit(L, s_list, L_s, msg)\n",
    "\n",
    "print(f\"Compression ratio: {len(msg) * 4 / res}\")\n",
    "\n",
    "# track time taken\n",
    "import time\n",
    "\n",
    "# warm up\n",
    "for i in range(1000):\n",
    "    runner.encodeDecodeWithInit(L, s_list, L_s, msg)\n",
    "\n",
    "start = time.time()\n",
    "\n",
    "for i in range(n_iter):\n",
    "    runner.encodeDecodeWithInit(L, s_list, L_s, msg)\n",
    "    \n",
    "end = time.time()\n",
    "\n",
    "print(f\"Time taken (uninitialized): {(end - start) * 1e3} miliseconds\")\n",
    "\n",
    "c = runner.initCoder(L, s_list, L_s)\n",
    "\n",
    "# warm up\n",
    "for i in range(1000):\n",
    "    runner.encodeDecode(c, msg)\n",
    "\n",
    "start1 = time.time()\n",
    "\n",
    "for i in range(n_iter):\n",
    "    runner.encodeDecode(c, msg)\n",
    "    \n",
    "end1 = time.time()\n",
    "\n",
    "runner.freeCoder(c)\n",
    "\n",
    "print(f\"Time taken (preinitialized): {(end1 - start1) * 1e3} miliseconds\")\n",
    "\n",
    "print(\"It is {}x faster to preinitialize\".format(round((end - start) / (end1 - start1), 2)))"
   ]
  },
  {
   "cell_type": "code",
   "execution_count": 12,
   "metadata": {},
   "outputs": [
    {
     "name": "stdout",
     "output_type": "stream",
     "text": [
      "Compression ratio: 0.8292682926829268\n",
      "Time taken (uninitialized): 372.2689151763916 miliseconds\n",
      "Time taken (preinitialized): 115.27705192565918 miliseconds\n",
      "It is 3.23x faster to preinitialize\n"
     ]
    }
   ],
   "source": [
    "L = 256\n",
    "s_list = [i for i in range(16)]\n",
    "L_s = [19, 4, 8, 33, 8, 18, 4, 10, 19, 8, 30, 4, 8, 38, 26, 19]\n",
    "msg = [0,3,2,3,2,1,2,3,4,7,3,1,2,3,4,5,6,7, 15, 14, 13, 12, 11, 10, 9, 8, 7, 6, 5, 4, 3, 2, 1, 0]\n",
    "\n",
    "res = c_int_runner.encodeDecodeWithInit(L, s_list, L_s, msg)\n",
    "\n",
    "print(f\"Compression ratio: {len(msg) * 4 / res}\")\n",
    "\n",
    "# track time taken\n",
    "import time\n",
    "\n",
    "# warm up\n",
    "for i in range(1000):\n",
    "    c_int_runner.encodeDecodeWithInit(L, s_list, L_s, msg)\n",
    "\n",
    "start = time.time()\n",
    "\n",
    "for i in range(n_iter):\n",
    "    c_int_runner.encodeDecodeWithInit(L, s_list, L_s, msg)\n",
    "    \n",
    "end = time.time()\n",
    "\n",
    "print(f\"Time taken (uninitialized): {(end - start) * 1e3} miliseconds\")\n",
    "\n",
    "c = c_int_runner.initCoder(L, s_list, L_s)\n",
    "\n",
    "# warm up\n",
    "for i in range(1000):\n",
    "    c_int_runner.encodeDecode(c, msg)\n",
    "\n",
    "start2 = time.time()\n",
    "\n",
    "for i in range(n_iter):\n",
    "    c_int_runner.encodeDecode(c, msg)\n",
    "    \n",
    "end2 = time.time()\n",
    "\n",
    "c_int_runner.freeCoder(c)\n",
    "\n",
    "print(f\"Time taken (preinitialized): {(end2 - start2) * 1e3} miliseconds\")\n",
    "\n",
    "print(\"It is {}x faster to preinitialize\".format(round((end - start) / (end2 - start2), 2)))"
   ]
  },
  {
   "cell_type": "code",
   "execution_count": 13,
   "metadata": {},
   "outputs": [
    {
     "name": "stdout",
     "output_type": "stream",
     "text": [
      "Time taken (Python): 1264.1353607177734 miliseconds\n"
     ]
    }
   ],
   "source": [
    "c = Coder.Coder(L, s_list, L_s)\n",
    "\n",
    "# track time taken\n",
    "import time\n",
    "\n",
    "# warm up\n",
    "for i in range(1000):\n",
    "    c.encode_decode(msg)\n",
    "    \n",
    "start3 = time.time()\n",
    "\n",
    "for i in range(n_iter):\n",
    "    c.encode_decode(msg)\n",
    "    \n",
    "end3 = time.time()\n",
    "\n",
    "print(f\"Time taken (Python): {(end3 - start3) * 1e3} miliseconds\")"
   ]
  },
  {
   "cell_type": "code",
   "execution_count": 14,
   "metadata": {},
   "outputs": [
    {
     "name": "stdout",
     "output_type": "stream",
     "text": [
      "Python is 11.12x slower to use C (uint8)\n",
      "Python is 10.97x slower to use C (int)\n",
      "C (int) is 0.99x slower than C (uint8)\n"
     ]
    }
   ],
   "source": [
    "print(\"Python is {}x slower to use C (uint8)\".format(round((end3 - start3) / (end1 - start1), 2)))\n",
    "print(\"Python is {}x slower to use C (int)\".format(round((end3 - start3) / (end2 - start2), 2)))\n",
    "print(\"C (int) is {}x slower than C (uint8)\".format(round((end1 - start1) / (end2 - start2), 2)))"
   ]
  }
 ],
 "metadata": {
  "kernelspec": {
   "display_name": "pytorch_env",
   "language": "python",
   "name": "python3"
  },
  "language_info": {
   "codemirror_mode": {
    "name": "ipython",
    "version": 3
   },
   "file_extension": ".py",
   "mimetype": "text/x-python",
   "name": "python",
   "nbconvert_exporter": "python",
   "pygments_lexer": "ipython3",
   "version": "3.12.4"
  }
 },
 "nbformat": 4,
 "nbformat_minor": 2
}
