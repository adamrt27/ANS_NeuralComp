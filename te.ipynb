{
 "cells": [
  {
   "cell_type": "code",
   "execution_count": 16,
   "metadata": {},
   "outputs": [],
   "source": [
    "from Functions.c import runner\n",
    "from Functions.python import Coder"
   ]
  },
  {
   "cell_type": "code",
   "execution_count": 20,
   "metadata": {},
   "outputs": [
    {
     "name": "stdout",
     "output_type": "stream",
     "text": [
      "Compression ratio: 0.8292682926829268\n",
      "Time taken (uninitialized): 189.34297561645508 miliseconds\n",
      "Time taken (preinitialized): 65.48690795898438 miliseconds\n",
      "It is 2.89x faster to preinitialize\n"
     ]
    }
   ],
   "source": [
    "L = 256\n",
    "s_list = [i for i in range(16)]\n",
    "L_s = [19, 4, 8, 33, 8, 18, 4, 10, 19, 8, 30, 4, 8, 38, 26, 19]\n",
    "msg = [0,3,2,3,2,1,2,3,4,7,3,1,2,3,4,5,6,7, 15, 14, 13, 12, 11, 10, 9, 8, 7, 6, 5, 4, 3, 2, 1, 0]\n",
    "\n",
    "res = runner.encodeDecodeWithInit(L, s_list, L_s, msg)\n",
    "\n",
    "print(f\"Compression ratio: {len(msg) * 4 / res}\")\n",
    "\n",
    "# track time taken\n",
    "import time\n",
    "\n",
    "n_iter = 10000\n",
    "\n",
    "# warm up\n",
    "for i in range(1000):\n",
    "    runner.encodeDecodeWithInit(L, s_list, L_s, msg)\n",
    "\n",
    "start = time.time()\n",
    "\n",
    "for i in range(n_iter):\n",
    "    runner.encodeDecodeWithInit(L, s_list, L_s, msg)\n",
    "    \n",
    "end = time.time()\n",
    "\n",
    "print(f\"Time taken (uninitialized): {(end - start) * 1e3} miliseconds\")\n",
    "\n",
    "c = runner.initCoder(L, s_list, L_s)\n",
    "\n",
    "# warm up\n",
    "for i in range(1000):\n",
    "    runner.encodeDecode(c, msg)\n",
    "\n",
    "start1 = time.time()\n",
    "\n",
    "for i in range(n_iter):\n",
    "    runner.encodeDecode(c, msg)\n",
    "    \n",
    "end1 = time.time()\n",
    "\n",
    "runner.freeCoder(c)\n",
    "\n",
    "print(f\"Time taken (preinitialized): {(end1 - start1) * 1e3} miliseconds\")\n",
    "\n",
    "print(\"It is {}x faster to preinitialize\".format(round((end - start) / (end1 - start1), 2)))"
   ]
  },
  {
   "cell_type": "code",
   "execution_count": 21,
   "metadata": {},
   "outputs": [
    {
     "name": "stdout",
     "output_type": "stream",
     "text": [
      "Time taken (Python): 703.5970687866211 miliseconds\n",
      "It is 10.74x faster to use C\n"
     ]
    }
   ],
   "source": [
    "c = Coder.Coder(L, s_list, L_s)\n",
    "\n",
    "# track time taken\n",
    "import time\n",
    "\n",
    "n_iter = 10000\n",
    "\n",
    "# warm up\n",
    "for i in range(1000):\n",
    "    c.encode_decode(msg)\n",
    "    \n",
    "start2 = time.time()\n",
    "\n",
    "for i in range(n_iter):\n",
    "    c.encode_decode(msg)\n",
    "    \n",
    "end2 = time.time()\n",
    "\n",
    "print(f\"Time taken (Python): {(end2 - start2) * 1e3} miliseconds\")\n",
    "\n",
    "print(\"It is {}x faster to use C\".format(round((end2 - start2) / (end1 - start1), 2)))"
   ]
  },
  {
   "cell_type": "code",
   "execution_count": null,
   "metadata": {},
   "outputs": [],
   "source": []
  }
 ],
 "metadata": {
  "kernelspec": {
   "display_name": "pytorch_env",
   "language": "python",
   "name": "python3"
  },
  "language_info": {
   "codemirror_mode": {
    "name": "ipython",
    "version": 3
   },
   "file_extension": ".py",
   "mimetype": "text/x-python",
   "name": "python",
   "nbconvert_exporter": "python",
   "pygments_lexer": "ipython3",
   "version": "3.12.4"
  }
 },
 "nbformat": 4,
 "nbformat_minor": 2
}
