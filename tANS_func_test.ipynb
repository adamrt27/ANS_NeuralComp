{
 "cells": [
  {
   "cell_type": "code",
   "execution_count": 1,
   "metadata": {},
   "outputs": [],
   "source": [
    "import numpy as np\n",
    "import pandas as pd\n",
    "import sys\n",
    "\n",
    "sys.path.append(\"Functions/\")\n",
    "\n",
    "import Coder, Decoder, Encoder, SpreadFunction, Utils"
   ]
  },
  {
   "cell_type": "code",
   "execution_count": 2,
   "metadata": {},
   "outputs": [
    {
     "name": "stdout",
     "output_type": "stream",
     "text": [
      "Normal Spread: 1.4812247881992389 0.08013255596160888\n",
      "Fast Spread: 1.4814482363608552 0.0777998685836792\n"
     ]
    }
   ],
   "source": [
    "# Example\n",
    "import time\n",
    "# set up the coder, with symbols and their frequencies\n",
    "alphabet = np.arange(256, dtype=np.uint8)\n",
    "avg_saved = 0\n",
    "avg_saved_fast = 0\n",
    "avg_time = 0\n",
    "avg_time_fast = 0\n",
    "\n",
    "n_trials = 10\n",
    "\n",
    "for i in range(n_trials):\n",
    "    freq = Utils.generate_random_list2(len(alphabet),15) #generate_random_list_target(len(alphabet), 10, 256*4)\n",
    "    # print(freq)\n",
    "    c = Coder.Coder(alphabet, freq, fast= True)\n",
    "    c_fast = Coder.Coder(alphabet, freq, fast= False)\n",
    "    # encode a message\n",
    "    msg = Utils.generate_random_array_uint8(alphabet, freq)\n",
    "    msg_tmp = np.asarray(msg)\n",
    "\n",
    "    time_start = time.time()\n",
    "    out_tmp, sav = c.encode_decode(msg_tmp)\n",
    "    time_end = time.time()\n",
    "    avg_time += time_end - time_start\n",
    "    \n",
    "    time_start = time.time()\n",
    "    out_tmp_fast, sav_fast = c_fast.encode_decode(msg_tmp)\n",
    "    time_end = time.time()\n",
    "    avg_time_fast += time_end - time_start\n",
    "    \n",
    "    avg_saved += sav\n",
    "    avg_saved_fast += sav_fast\n",
    "    if list(msg) != out_tmp or list(msg) != out_tmp_fast:\n",
    "        print(\"Error\")\n",
    "        print(freq,msg)\n",
    "        break\n",
    "    \n",
    "print(\"Normal Spread:\", (avg_saved/n_trials), avg_time/n_trials)\n",
    "print(\"Fast Spread:\",(avg_saved_fast/n_trials), avg_time_fast/n_trials)"
   ]
  },
  {
   "cell_type": "code",
   "execution_count": null,
   "metadata": {},
   "outputs": [],
   "source": []
  }
 ],
 "metadata": {
  "kernelspec": {
   "display_name": "tANS_env",
   "language": "python",
   "name": "python3"
  },
  "language_info": {
   "codemirror_mode": {
    "name": "ipython",
    "version": 3
   },
   "file_extension": ".py",
   "mimetype": "text/x-python",
   "name": "python",
   "nbconvert_exporter": "python",
   "pygments_lexer": "ipython3",
   "version": "3.1.undefined"
  }
 },
 "nbformat": 4,
 "nbformat_minor": 2
}
