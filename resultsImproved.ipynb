{
 "cells": [
  {
   "cell_type": "code",
   "execution_count": 2,
   "metadata": {},
   "outputs": [],
   "source": [
    "import pandas as pd\n",
    "import os"
   ]
  },
  {
   "cell_type": "code",
   "execution_count": 3,
   "metadata": {},
   "outputs": [
    {
     "data": {
      "text/plain": [
       "(['mobilenet_v2', 'mobilenet_v3_large'],\n",
       " ['stats_activations_apack.csv',\n",
       "  'stats_weights_apack.csv',\n",
       "  'stats_activations_256.csv',\n",
       "  'stats_weights_256.csv'])"
      ]
     },
     "execution_count": 3,
     "metadata": {},
     "output_type": "execute_result"
    }
   ],
   "source": [
    "models = [\"mobilenet_v2\", \"mobilenet_v3_large\"]#os.listdir(\"trace\")\n",
    "file_names = [\n",
    "    \"stats_activations_apack.csv\",\n",
    "    \"stats_weights_apack.csv\",\n",
    "    \"stats_activations_256.csv\",\n",
    "    \"stats_weights_256.csv\"\n",
    "]\n",
    "models, file_names"
   ]
  },
  {
   "cell_type": "code",
   "execution_count": 57,
   "metadata": {},
   "outputs": [
    {
     "data": {
      "text/plain": [
       "1.1514649564409474"
      ]
     },
     "execution_count": 57,
     "metadata": {},
     "output_type": "execute_result"
    }
   ],
   "source": [
    "np.mean(pd.read_csv(\"trace/mobilenet_v2/stats_activations_256.csv\")[\"Compression Ratio\"])"
   ]
  },
  {
   "cell_type": "code",
   "execution_count": 58,
   "metadata": {},
   "outputs": [
    {
     "data": {
      "text/plain": [
       "1.646724357511593"
      ]
     },
     "execution_count": 58,
     "metadata": {},
     "output_type": "execute_result"
    }
   ],
   "source": [
    "np.mean(pd.read_csv(\"trace/mobilenet_v2/stats_activations_apack.csv\")[\"Compression Ratio\"])"
   ]
  },
  {
   "cell_type": "code",
   "execution_count": 61,
   "metadata": {},
   "outputs": [],
   "source": [
    "# Dictionary to hold the DataFrames\n",
    "data_frames = {}\n",
    "\n",
    "# Iterate through directories and file names\n",
    "for directory in models:\n",
    "    key = f\"trace/{directory}/\"\n",
    "    data_frames[key] = {\"APack\": {\"activations\": [], \"weights\": []}, \"256\": {\"activations\": [], \"weights\": []}}\n",
    "    \n",
    "    for file_name in file_names:\n",
    "        method = \"APack\" if \"apack\" in file_name else \"256\"\n",
    "        \n",
    "        if os.path.exists(f\"trace/{directory}/{file_name}\"):\n",
    "            if \"activations\" in file_name:\n",
    "                data_frames[key][method][\"activations\"] = list(pd.read_csv(f\"trace/{directory}/{file_name}\", usecols=[\"Compression Ratio\"])[\"Compression Ratio\"])\n",
    "            else:\n",
    "                data_frames[key][method][\"weights\"] = list(pd.read_csv(f\"trace/{directory}/{file_name}\", usecols=[\"Compression Ratio\"])[\"Compression Ratio\"])\n"
   ]
  },
  {
   "cell_type": "markdown",
   "metadata": {},
   "source": [
    "# Baseline APack"
   ]
  },
  {
   "cell_type": "code",
   "execution_count": 63,
   "metadata": {},
   "outputs": [],
   "source": [
    "import os\n",
    "import re\n",
    "\n",
    "def parse_comp(filename):\n",
    "    with open(filename, \"r\") as f:\n",
    "        # read the string\n",
    "        data = f.read()\n",
    "    return float(data)\n",
    "\n",
    "def parse_directory(directory, act_pattern, act_range, w_pattern, w_range):\n",
    "    \"\"\"\n",
    "    Parses the activation and weight .comp files in a given directory.\n",
    "\n",
    "    Parameters:\n",
    "    - directory (str): The path to the directory containing the .comp files.\n",
    "    - act_pattern (str): The filename pattern for activation files, with a placeholder for the index.\n",
    "    - act_range (range): The range of indices for activation files.\n",
    "    - w_pattern (str): The filename pattern for weight files, with a placeholder for the index.\n",
    "    - w_range (range): The range of indices for weight files.\n",
    "\n",
    "    Returns:\n",
    "    - act_list (list): A list of parsed activation values.\n",
    "    - w_list (list): A list of parsed weight values.\n",
    "    \"\"\"\n",
    "    act_list = []\n",
    "    w_list = []\n",
    "    \n",
    "    # Iterate through the range for activation files\n",
    "    for i in act_range:\n",
    "        # Construct the file path and parse the .comp file\n",
    "        act_list.append(parse_comp(os.path.join(directory, act_pattern.format(i))))\n",
    "        \n",
    "    # Iterate through the range for weight files\n",
    "    for i in w_range:\n",
    "        # Construct the file path and parse the .comp file\n",
    "        w_list.append(parse_comp(os.path.join(directory, w_pattern.format(i))))\n",
    "    \n",
    "    return act_list, w_list\n",
    "\n",
    "def calculate_ranges(directory, act_pattern, w_pattern):\n",
    "    \"\"\"\n",
    "    Calculates the ranges for activation and weight files in a given directory.\n",
    "\n",
    "    Parameters:\n",
    "    - directory (str): The path to the directory containing the .comp files.\n",
    "    - act_pattern (str): The filename pattern for activation files, with a placeholder for the index.\n",
    "    - w_pattern (str): The filename pattern for weight files, with a placeholder for the index.\n",
    "\n",
    "    Returns:\n",
    "    - act_range (range): The range of indices for activation files.\n",
    "    - w_range (range): The range of indices for weight files.\n",
    "    \"\"\"\n",
    "    act_indices = []\n",
    "    w_indices = []\n",
    "    \n",
    "    act_regex = re.compile(act_pattern.replace(\"{}\", r\"(\\d+)\"))\n",
    "    w_regex = re.compile(w_pattern.replace(\"{}\", r\"(\\d+)\"))\n",
    "    \n",
    "    for filename in os.listdir(directory):\n",
    "        act_match = act_regex.match(filename)\n",
    "        if act_match:\n",
    "            act_indices.append(int(act_match.group(1)))\n",
    "        \n",
    "        w_match = w_regex.match(filename)\n",
    "        if w_match:\n",
    "            w_indices.append(int(w_match.group(1)))\n",
    "    \n",
    "    if act_indices:\n",
    "        act_range = range(min(act_indices), max(act_indices) + 1)\n",
    "    else:\n",
    "        act_range = range(0)\n",
    "        \n",
    "    if w_indices:\n",
    "        w_range = range(min(w_indices), max(w_indices) + 1)\n",
    "    else:\n",
    "        w_range = range(0)\n",
    "    \n",
    "    return act_range, w_range\n",
    "\n",
    "def generate_directories_info(directories, act_pattern, w_pattern):\n",
    "    \"\"\"\n",
    "    Generates a dictionary containing directory information for parsing.\n",
    "\n",
    "    Parameters:\n",
    "    - directories (list of str): List of directory paths.\n",
    "    - act_pattern (str): The filename pattern for activation files.\n",
    "    - w_pattern (str): The filename pattern for weight files.\n",
    "\n",
    "    Returns:\n",
    "    - directories_info (dict): A dictionary with directory paths as keys and \n",
    "                               file patterns and ranges as values.\n",
    "    \"\"\"\n",
    "    directories_info = {}\n",
    "    \n",
    "    for directory in directories:\n",
    "        act_range, w_range = calculate_ranges(directory, act_pattern, w_pattern)\n",
    "        directories_info[directory] = {\n",
    "            \"act_pattern\": act_pattern,\n",
    "            \"act_range\": act_range,\n",
    "            \"w_pattern\": w_pattern,\n",
    "            \"w_range\": w_range\n",
    "        }\n",
    "    \n",
    "    return directories_info\n",
    "\n",
    "# Example usage\n",
    "directories = [\n",
    "    \"trace/mobilenet_v2/\",\n",
    "    \"trace/mobilenet_v3_large/\"\n",
    "]\n",
    "\n",
    "act_pattern = \"input_{}_flat.comp\"\n",
    "w_pattern = \"weight_{}_flat.comp\"\n",
    "\n",
    "directories_info = generate_directories_info(directories, act_pattern, w_pattern)\n",
    "\n",
    "# Dictionary to hold the parsed data\n",
    "comp_data = {}\n",
    "\n",
    "# Iterate through directories and parse .comp files\n",
    "for directory, info in directories_info.items():\n",
    "    act_list, w_list = parse_directory(\n",
    "        directory, \n",
    "        info[\"act_pattern\"], \n",
    "        info[\"act_range\"], \n",
    "        info[\"w_pattern\"], \n",
    "        info[\"w_range\"]\n",
    "    )\n",
    "    comp_data[directory] = {\n",
    "        \"activations\": act_list,\n",
    "        \"weights\": w_list\n",
    "    }"
   ]
  },
  {
   "cell_type": "code",
   "execution_count": 64,
   "metadata": {},
   "outputs": [],
   "source": [
    "# append comp_data to data_frames\n",
    "for key in comp_data:\n",
    "    data_frames[key][\"comp\"] = comp_data[key]"
   ]
  },
  {
   "cell_type": "markdown",
   "metadata": {},
   "source": [
    "# Weights"
   ]
  },
  {
   "cell_type": "code",
   "execution_count": 66,
   "metadata": {},
   "outputs": [],
   "source": [
    "import numpy as np"
   ]
  },
  {
   "cell_type": "code",
   "execution_count": 67,
   "metadata": {},
   "outputs": [],
   "source": [
    "# get means of data_frames\n",
    "for key in data_frames:\n",
    "    data_frames[key][\"APack\"][\"activations_mean\"] = np.mean(data_frames[key][\"APack\"][\"activations\"])\n",
    "    data_frames[key][\"APack\"][\"weights_mean\"] = np.mean(data_frames[key][\"APack\"][\"weights\"])\n",
    "    data_frames[key][\"256\"][\"activations_mean\"] = np.mean(data_frames[key][\"256\"][\"activations\"])\n",
    "    data_frames[key][\"256\"][\"weights_mean\"] = np.mean(data_frames[key][\"256\"][\"weights\"])\n",
    "    data_frames[key][\"comp\"][\"activations_mean\"] = np.mean(data_frames[key][\"comp\"][\"activations\"])\n",
    "    data_frames[key][\"comp\"][\"weights_mean\"] = np.mean(data_frames[key][\"comp\"][\"weights\"])\n"
   ]
  },
  {
   "cell_type": "code",
   "execution_count": 79,
   "metadata": {},
   "outputs": [
    {
     "data": {
      "image/png": "[encoded data removed]",
      "text/plain": [
       "<Figure size 1400x600 with 2 Axes>"
      ]
     },
     "metadata": {},
     "output_type": "display_data"
    }
   ],
   "source": [
    "import matplotlib.pyplot as plt\n",
    "\n",
    "models = [\"mobilenet_v2\", \"mobilenet_v3_large\"]\n",
    "labels = [\"ANS APack\", \"ANS 256\", \"AC APack\"]\n",
    "\n",
    "# Create DataFrames\n",
    "df_w = pd.DataFrame({\n",
    "    \"Model\": models,\n",
    "    \"w_apack\": [data_frames[key][\"APack\"][\"weights_mean\"] for key in data_frames],\n",
    "    \"w_256\": [data_frames[key][\"256\"][\"weights_mean\"] for key in data_frames],\n",
    "    \"w_orig\": [data_frames[key][\"comp\"][\"weights_mean\"] for key in data_frames]\n",
    "})\n",
    "\n",
    "df_act = pd.DataFrame({\n",
    "    \"Model\": models,\n",
    "    \"act_apack\": [data_frames[key][\"APack\"][\"activations_mean\"] for key in data_frames],\n",
    "    \"act_256\": [data_frames[key][\"256\"][\"activations_mean\"] for key in data_frames],\n",
    "    \"act_orig\": [data_frames[key][\"comp\"][\"activations_mean\"] for key in data_frames]\n",
    "})\n",
    "\n",
    "# Define the colors for each category\n",
    "color_map = {\n",
    "    \"Original APack\": \"blue\",\n",
    "    \"ANS APack\": \"green\",\n",
    "    \"ANS 256\": \"red\"\n",
    "}\n",
    "\n",
    "# Define the figure and subplots\n",
    "fig, axs = plt.subplots(1, 2, figsize=(14, 6))\n",
    "\n",
    "# Plot weights compression ratio\n",
    "bars_w = df_w.set_index(\"Model\").plot(kind=\"bar\", ax=axs[0], color=[color_map[\"ANS APack\"], color_map[\"ANS 256\"], color_map[\"Original APack\"]], legend=False)\n",
    "axs[0].set_title(\"Weights Compression Ratio\")\n",
    "axs[0].set_ylabel(\"Compression Ratio\")\n",
    "axs[0].set_ylim([1.0, 2])  # Set y-axis limits to zoom in\n",
    "\n",
    "# Plot activations compression ratio\n",
    "bars_act = df_act.set_index(\"Model\").plot(kind=\"bar\", ax=axs[1], color=[color_map[\"ANS APack\"], color_map[\"ANS 256\"], color_map[\"Original APack\"]], legend=False)\n",
    "axs[1].set_title(\"Activations Compression Ratio\")\n",
    "axs[1].set_ylabel(\"Compression Ratio\")\n",
    "axs[1].set_ylim([1.0, 2])  # Set y-axis limits to zoom in\n",
    "\n",
    "# Add legend\n",
    "handles = [plt.Line2D([0], [0], color=color_map[key], lw=4) for key in [\"Original APack\", \"ANS APack\", \"ANS 256\"]]\n",
    "fig.legend(handles, color_map.keys(), loc=\"upper center\", ncol=3)\n",
    "\n",
    "# Improve layout\n",
    "plt.tight_layout()\n",
    "\n",
    "# Display the plot\n",
    "plt.show()"
   ]
  },
  {
   "cell_type": "code",
   "execution_count": 74,
   "metadata": {},
   "outputs": [
    {
     "name": "stdout",
     "output_type": "stream",
     "text": [
      "APack/comp\n",
      "\ttrace/mobilenet_v2/:\n",
      "\t\tweights: 0.9963855822041271\n",
      "\t\tactivations 0.8900037821313149\n",
      "\ttrace/mobilenet_v3_large/:\n",
      "\t\tweights: 0.9355709130537646\n",
      "\t\tactivations 1.0140085428881394\n",
      "Apack/256\n",
      "\ttrace/mobilenet_v2/:\n",
      "\t\tweights: 1.0266185070587148\n",
      "\t\tactivations 1.4301124392021782\n",
      "\ttrace/mobilenet_v3_large/:\n",
      "\t\tweights: 1.1328550879059367\n",
      "\t\tactivations 1.286372161084841\n"
     ]
    }
   ],
   "source": [
    "# Compute how much the compression ratio has improved with APack\n",
    "print(\"APack/comp\")\n",
    "for key in data_frames:\n",
    "    print(f\"\\t{key}:\")\n",
    "    print(\"\\t\\tweights:\", data_frames[key][\"APack\"][\"weights_mean\"] / data_frames[key][\"comp\"][\"weights_mean\"]) \n",
    "    print(\"\\t\\tactivations\",data_frames[key][\"APack\"][\"activations_mean\"] / data_frames[key][\"comp\"][\"activations_mean\"])\n",
    "    \n",
    "# Compute how much the compression ratio has improved with 256\n",
    "print(\"Apack/256\")\n",
    "for key in data_frames:\n",
    "    print(f\"\\t{key}:\")\n",
    "    print(\"\\t\\tweights:\", data_frames[key][\"APack\"][\"weights_mean\"] / data_frames[key][\"256\"][\"weights_mean\"]) \n",
    "    print(\"\\t\\tactivations\",data_frames[key][\"APack\"][\"activations_mean\"] / data_frames[key][\"256\"][\"activations_mean\"])"
   ]
  }
 ],
 "metadata": {
  "kernelspec": {
   "display_name": "fbgemm",
   "language": "python",
   "name": "python3"
  },
  "language_info": {
   "codemirror_mode": {
    "name": "ipython",
    "version": 3
   },
   "file_extension": ".py",
   "mimetype": "text/x-python",
   "name": "python",
   "nbconvert_exporter": "python",
   "pygments_lexer": "ipython3",
   "version": "3.12.4"
  }
 },
 "nbformat": 4,
 "nbformat_minor": 2
}
